{
 "cells": [
  {
   "cell_type": "code",
   "execution_count": 3,
   "metadata": {},
   "outputs": [
    {
     "name": "stdout",
     "output_type": "stream",
     "text": [
      "craw 1 : https://baike.baidu.com/item/%E5%A4%A9%E6%B4%A5%E5%B7%A5%E4%B8%9A%E5%A4%A7%E5%AD%A6/275160?fr=aladdin\n"
     ]
    }
   ],
   "source": [
    "# -*- coding: utf-8 -*-\n",
    "\"\"\"\n",
    "Created on Wed Nov  6 22:27:41 2019\n",
    "\n",
    "@author: Administrator\n",
    "\"\"\"\n",
    "import url_manager\n",
    "import html_downloader\n",
    "import html_parser\n",
    "import html_outputer\n",
    "import json\n",
    "\n",
    "class SpiderMain(object):\n",
    "    def __init__(self):\n",
    "        self.urls = url_manager.UrlManager()\n",
    "        self.downloader = html_downloader.HtmlDownloader()\n",
    "        self.parser = html_parser.HtmlParser()\n",
    "        self.outputer = html_outputer.HtmlOutputer()\n",
    "\n",
    "    def craw(self, root_url):\n",
    "        count = 1\n",
    "        self.urls.add_new_url(root_url) #添加初始url\n",
    "        while self.urls.has_new_url():\n",
    "            try:\n",
    "#                 result_data = []\n",
    "                result_data_dict = dict()\n",
    "                new_url = self.urls.get_new_url()\n",
    "                print(\"craw %d : %s\" %(count, new_url))\n",
    "                html_cont = self.downloader.download(new_url)\n",
    "                names, values = self.parser.my_basicInfo_paser(new_url, html_cont)\n",
    "                for (name, value) in zip(names,values):\n",
    "#                     result_data.append({name:value})\n",
    "                      result_data_dict[name] = value\n",
    "                \n",
    "            except:\n",
    "                print('craw failed')\n",
    "        self.outputer.output_json(result_data_dict)\n",
    "\n",
    "\n",
    "if __name__ == '__main__':\n",
    "    root_url = \"https://baike.baidu.com/item/%E5%A4%A9%E6%B4%A5%E5%B7%A5%E4%B8%9A%E5%A4%A7%E5%AD%A6/275160?fr=aladdin\"\n",
    "    obj_spider = SpiderMain()\n",
    "    obj_spider.craw(root_url)\n"
   ]
  },
  {
   "cell_type": "code",
   "execution_count": 4,
   "metadata": {},
   "outputs": [],
   "source": [
    "result_data_dict = json.load(open(\"all.json\"))"
   ]
  },
  {
   "cell_type": "code",
   "execution_count": 5,
   "metadata": {},
   "outputs": [
    {
     "data": {
      "text/plain": [
       "'世界一流学科建设高校教育部与天津市共建高校天津市重点建设高校卓越工程师教育培养计划（2012）“高等学校学科创新引智计划”（“111计划”）[3]\\xa0'"
      ]
     },
     "execution_count": 5,
     "metadata": {},
     "output_type": "execute_result"
    }
   ],
   "source": [
    "result_data_dict['属性']"
   ]
  },
  {
   "cell_type": "code",
   "execution_count": 1,
   "metadata": {},
   "outputs": [
    {
     "name": "stderr",
     "output_type": "stream",
     "text": [
      "/home/nicolezhu/anaconda3/lib/python3.6/site-packages/h5py/__init__.py:36: FutureWarning: Conversion of the second argument of issubdtype from `float` to `np.floating` is deprecated. In future, it will be treated as `np.float64 == np.dtype(float).type`.\n",
      "  from ._conv import register_converters as _register_converters\n"
     ]
    }
   ],
   "source": [
    "import jiagu"
   ]
  },
  {
   "cell_type": "code",
   "execution_count": 9,
   "metadata": {},
   "outputs": [
    {
     "name": "stdout",
     "output_type": "stream",
     "text": [
      "[]\n"
     ]
    }
   ],
   "source": [
    "knowledge = jiagu.knowledge(result_data_dict['博士后'])\n",
    "print(knowledge)"
   ]
  },
  {
   "cell_type": "code",
   "execution_count": 10,
   "metadata": {},
   "outputs": [
    {
     "name": "stdout",
     "output_type": "stream",
     "text": [
      "[['姚明', '出生日期', '1980年9月12日'], ['姚明', '出生地', '上海市徐汇区'], ['姚明', '祖籍', '江苏省苏州市吴江区震泽镇']]\n"
     ]
    }
   ],
   "source": [
    "text = '姚明（Yao Ming），1980年9月12日出生于上海市徐汇区，祖籍江苏省苏州市吴江区震泽镇，前中国职业篮球运动员，司职中锋，现任中职联公司董事长兼总经理。'\n",
    "knowledge = jiagu.knowledge(text)\n",
    "print(knowledge)"
   ]
  },
  {
   "cell_type": "code",
   "execution_count": 11,
   "metadata": {},
   "outputs": [
    {
     "name": "stdout",
     "output_type": "stream",
     "text": [
      "[]\n"
     ]
    }
   ],
   "source": [
    "text = '世界一流学科建设高校教育部与天津市共建高校天津市重点建设高校卓越工程师教育培养计划（2012）“高等学校学科创新引智计划”（“111计划”）[3]\\xa0'\n",
    "knowledge = jiagu.knowledge(text)\n",
    "print(knowledge)"
   ]
  },
  {
   "cell_type": "code",
   "execution_count": 12,
   "metadata": {},
   "outputs": [
    {
     "ename": "ModuleNotFoundError",
     "evalue": "No module named 'neo4j'",
     "output_type": "error",
     "traceback": [
      "\u001b[0;31m---------------------------------------------------------------------------\u001b[0m",
      "\u001b[0;31mModuleNotFoundError\u001b[0m                       Traceback (most recent call last)",
      "\u001b[0;32m<ipython-input-12-f01634fa1429>\u001b[0m in \u001b[0;36m<module>\u001b[0;34m()\u001b[0m\n\u001b[0;32m----> 1\u001b[0;31m \u001b[0;32mfrom\u001b[0m \u001b[0mneo4j\u001b[0m\u001b[0;34m.\u001b[0m\u001b[0mv1\u001b[0m \u001b[0;32mimport\u001b[0m \u001b[0mGraphDatabase\u001b[0m\u001b[0;34m\u001b[0m\u001b[0m\n\u001b[0m",
      "\u001b[0;31mModuleNotFoundError\u001b[0m: No module named 'neo4j'"
     ]
    }
   ],
   "source": [
    "from neo4j.v1 import GraphDatabase"
   ]
  },
  {
   "cell_type": "code",
   "execution_count": null,
   "metadata": {},
   "outputs": [],
   "source": []
  }
 ],
 "metadata": {
  "kernelspec": {
   "display_name": "Python 3",
   "language": "python",
   "name": "python3"
  },
  "language_info": {
   "codemirror_mode": {
    "name": "ipython",
    "version": 3
   },
   "file_extension": ".py",
   "mimetype": "text/x-python",
   "name": "python",
   "nbconvert_exporter": "python",
   "pygments_lexer": "ipython3",
   "version": "3.6.5"
  }
 },
 "nbformat": 4,
 "nbformat_minor": 2
}
